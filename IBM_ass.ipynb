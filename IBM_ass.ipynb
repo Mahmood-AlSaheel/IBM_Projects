{
 "cells": [
  {
   "cell_type": "markdown",
   "metadata": {},
   "source": [
    "## (How to use notebook )\n",
    "#### by (Mahmood AlSaheel)\n",
    "### Introduction:"
   ]
  },
  {
   "cell_type": "markdown",
   "metadata": {},
   "source": [
    "Jupyter Notebook is an open-source web application for creating and sharing documents with live code, equations, visualizations, and narrative text."
   ]
  },
  {
   "cell_type": "markdown",
   "metadata": {},
   "source": [
    "### List of Data Science Languages\n",
    "\n",
    "- Python\n",
    "- R\n",
    "- SQL\n",
    "- Julia\n",
    "- SAS\n",
    "- Scala\n",
    "- MATLAB"
   ]
  },
  {
   "cell_type": "markdown",
   "metadata": {},
   "source": [
    "### List of Data Science Libraries\n",
    "\n",
    "- **Python:**\n",
    "  - NumPy\n",
    "  - pandas\n",
    "  - Matplotlib\n",
    "  - Seaborn\n",
    "  - SciPy\n",
    "  - scikit-learn\n",
    "  - TensorFlow\n",
    "  - Keras\n",
    "  - PyTorch\n",
    "\n",
    "- **R:**\n",
    "  - dplyr\n",
    "  - ggplot2\n",
    "  - tidyr\n",
    "  - caret\n",
    "  - shiny\n",
    "  - data.table\n",
    "\n",
    "- **SQL:**\n",
    "  - SQLite\n",
    "  - PostgreSQL\n",
    "  - MySQL\n",
    "\n",
    "- **Julia:**\n",
    "  - DataFrames.jl\n",
    "  - Plots.jl\n",
    "  - Flux.jl\n"
   ]
  },
  {
   "cell_type": "markdown",
   "metadata": {},
   "source": [
    "### Table of Data Science Tools\n",
    "\n",
    "| Tool          | Description                                      |\n",
    "|---------------|--------------------------------------------------|\n",
    "| Jupyter       | Interactive notebooks for code, text, and plots  |\n",
    "| RStudio       | Integrated development environment for R         |\n",
    "| Anaconda      | Distribution with Python and R for data science  |\n",
    "| Apache Hadoop | Framework for distributed storage and processing |\n",
    "| Apache Spark  | Unified analytics engine for big data processing |\n",
    "| Tableau       | Data visualization and business intelligence     |\n",
    "| KNIME         | Open-source platform for data analytics          |\n",
    "| RapidMiner    | Data science platform for machine learning       |\n",
    "| TensorFlow    | Open-source library for machine learning         |\n",
    "| Keras         | High-level neural networks API                   |\n",
    "| PyTorch       | Deep learning framework                          |\n",
    "| SAS           | Software suite for advanced analytics            |\n"
   ]
  },
  {
   "cell_type": "markdown",
   "metadata": {},
   "source": [
    "### Arithmetic Expression Examples\n",
    "\n",
    "Arithmetic expressions are used to perform mathematical operations. Here are some common examples:\n",
    "\n",
    "- **Addition (+)**: Combines two values.\n",
    "  - Example: `3 + 2 = 5`\n",
    "  \n",
    "- **Subtraction (-)**: Subtracts one value from another.\n",
    "  - Example: `5 - 2 = 3`\n",
    "  \n",
    "- **Multiplication (*)**: Multiplies two values.\n",
    "  - Example: `4 * 3 = 12`\n",
    "  \n",
    "- **Division (/)**: Divides one value by another.\n",
    "  - Example: `10 / 2 = 5`\n",
    "  \n",
    "- **Exponentiation (**)**: Raises one value to the power of another.\n",
    "  - Example: `2 ** 3 = 8`\n",
    "  \n",
    "- **Modulo (%)**: Returns the remainder of a division operation.\n",
    "  - Example: `10 % 3 = 1`\n",
    "  \n",
    "These expressions are fundamental in programming and data\n"
   ]
  },
  {
   "cell_type": "code",
   "execution_count": 1,
   "metadata": {},
   "outputs": [
    {
     "name": "stdout",
     "output_type": "stream",
     "text": [
      "Multiplication Result: 12\n",
      "Addition Result: 12\n"
     ]
    }
   ],
   "source": [
    "# Multiplying two numbers\n",
    "multiplication_result = 4 * 3\n",
    "print(\"Multiplication Result:\", multiplication_result)\n",
    "\n",
    "# Adding two numbers\n",
    "addition_result = 5 + 7\n",
    "print(\"Addition Result:\", addition_result)\n"
   ]
  },
  {
   "cell_type": "code",
   "execution_count": 2,
   "metadata": {},
   "outputs": [
    {
     "name": "stdout",
     "output_type": "stream",
     "text": [
      "120 minutes is equal to 2.0 hours\n"
     ]
    }
   ],
   "source": [
    "# Function to convert minutes to hours\n",
    "def minutes_to_hours(minutes):\n",
    "    hours = minutes / 60\n",
    "    return hours\n",
    "\n",
    "# Example usage\n",
    "minutes = 120\n",
    "hours = minutes_to_hours(minutes)\n",
    "print(f\"{minutes} minutes is equal to {hours} hours\")\n"
   ]
  },
  {
   "cell_type": "markdown",
   "metadata": {},
   "source": [
    "### Objectives\n",
    "\n",
    "1. **Learn Fundamentals**: Understand basic concepts and principles of data science.\n",
    "   \n",
    "2. **Gain Technical Skills**: Acquire proficiency in using data science tools, languages, and libraries.\n",
    "\n",
    "3. **Apply Techniques**: Use statistical methods, machine learning algorithms, and data visualization techniques.\n",
    "\n",
    "4. **Solve Problems**: Apply data science to solve real-world problems and make data-driven decisions.\n",
    "\n",
    "5. **Communicate Findings**: Present analysis results clearly and effectively to stakeholders.\n",
    "\n",
    "6. **Stay Updated**: Keep up with advancements in data science to continuously improve skills and knowledge.\n"
   ]
  },
  {
   "cell_type": "markdown",
   "metadata": {},
   "source": [
    "### Author\n",
    "\n",
    "[Mahmood AlSaheel]\n"
   ]
  },
  {
   "cell_type": "markdown",
   "metadata": {},
   "source": []
  }
 ],
 "metadata": {
  "kernelspec": {
   "display_name": "Python 3",
   "language": "python",
   "name": "python3"
  },
  "language_info": {
   "codemirror_mode": {
    "name": "ipython",
    "version": 3
   },
   "file_extension": ".py",
   "mimetype": "text/x-python",
   "name": "python",
   "nbconvert_exporter": "python",
   "pygments_lexer": "ipython3",
   "version": "3.11.9"
  }
 },
 "nbformat": 4,
 "nbformat_minor": 2
}
